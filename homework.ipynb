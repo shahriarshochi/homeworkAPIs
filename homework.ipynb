{
 "cells": [
  {
   "cell_type": "code",
   "execution_count": 1,
   "id": "3d4aedf5-8945-4ab4-a48b-d66d2638ff6f",
   "metadata": {},
   "outputs": [],
   "source": [
    "# Initial imports\n",
    "import os\n",
    "import requests\n",
    "import pandas as pd\n",
    "from dotenv import load_dotenv\n",
    "import alpaca_trade_api as tradeapi\n",
    "from MCForecastTools import MCSimulation\n",
    "\n",
    "%matplotlib inline"
   ]
  },
  {
   "cell_type": "code",
   "execution_count": 2,
   "id": "8b1b1934-a946-464e-9e0b-62a162a944bd",
   "metadata": {},
   "outputs": [
    {
     "data": {
      "text/plain": [
       "True"
      ]
     },
     "execution_count": 2,
     "metadata": {},
     "output_type": "execute_result"
    }
   ],
   "source": [
    "# Load .env enviroment variables\n",
    "load_dotenv()"
   ]
  },
  {
   "cell_type": "code",
   "execution_count": 6,
   "id": "9ba6b2cc-4b5c-494b-9c71-e2bc4ac2093e",
   "metadata": {},
   "outputs": [],
   "source": [
    "alpaca_api_key=os.getenv('ALPACA_API_KEY')"
   ]
  },
  {
   "cell_type": "code",
   "execution_count": 7,
   "id": "ee42a9eb-b913-46f0-82ca-9c3074b38870",
   "metadata": {},
   "outputs": [],
   "source": [
    "alpaca_secret_key=os.getenv('ALPACA_API_SECRET_KEY')"
   ]
  },
  {
   "cell_type": "code",
   "execution_count": 8,
   "id": "d1cfbcb7-1bf3-4257-bed9-20aa7e4a7f6f",
   "metadata": {},
   "outputs": [
    {
     "data": {
      "text/plain": [
       "'PKAGDNOB006SGQOFKT4R'"
      ]
     },
     "execution_count": 8,
     "metadata": {},
     "output_type": "execute_result"
    }
   ],
   "source": [
    "alpaca_api_key"
   ]
  },
  {
   "cell_type": "code",
   "execution_count": 9,
   "id": "c352e3fb-21e3-42a1-b1a4-9cca95d7c3bc",
   "metadata": {},
   "outputs": [
    {
     "data": {
      "text/plain": [
       "'x3eVWUrP8w5WF0CxfRyHLPMnCVMjZQqCxDUaAqnC'"
      ]
     },
     "execution_count": 9,
     "metadata": {},
     "output_type": "execute_result"
    }
   ],
   "source": [
    "alpaca_secret_key"
   ]
  },
  {
   "cell_type": "code",
   "execution_count": 10,
   "id": "6f241af7-3ccd-405d-86d9-068bfa4c50f4",
   "metadata": {},
   "outputs": [],
   "source": [
    "my_btc = 1.2\n",
    "my_eth = 5.3"
   ]
  },
  {
   "cell_type": "code",
   "execution_count": 11,
   "id": "90a8d0af-1369-4ed4-b1e1-66a3e65fd04b",
   "metadata": {},
   "outputs": [],
   "source": [
    "btc_url = \"https://api.alternative.me/v2/ticker/Bitcoin/?convert=CAD\"\n",
    "eth_url = \"https://api.alternative.me/v2/ticker/Ethereum/?convert=CAD\""
   ]
  },
  {
   "cell_type": "code",
   "execution_count": 12,
   "id": "9a58221e-a2d4-45bc-bf67-a47eef04caa1",
   "metadata": {},
   "outputs": [],
   "source": [
    "btc_url = btc_url + \"?format=json\""
   ]
  },
  {
   "cell_type": "code",
   "execution_count": 13,
   "id": "d96c7243-d093-4eaf-92a2-44aa90182891",
   "metadata": {},
   "outputs": [],
   "source": [
    "eth_url = eth_url + \"?format=json\""
   ]
  },
  {
   "cell_type": "code",
   "execution_count": 14,
   "id": "59ec90d2-7740-40f6-84d2-bbe354e7c4a8",
   "metadata": {},
   "outputs": [
    {
     "data": {
      "text/plain": [
       "<Response [200]>"
      ]
     },
     "execution_count": 14,
     "metadata": {},
     "output_type": "execute_result"
    }
   ],
   "source": [
    "requests.get(btc_url)"
   ]
  },
  {
   "cell_type": "code",
   "execution_count": 15,
   "id": "3db4f88e-7e24-4721-8407-6ec6f3a0e492",
   "metadata": {},
   "outputs": [
    {
     "data": {
      "text/plain": [
       "<Response [200]>"
      ]
     },
     "execution_count": 15,
     "metadata": {},
     "output_type": "execute_result"
    }
   ],
   "source": [
    "requests.get(eth_url)"
   ]
  },
  {
   "cell_type": "code",
   "execution_count": 17,
   "id": "6e577245-056c-495c-a4db-48534b27648c",
   "metadata": {},
   "outputs": [],
   "source": [
    "response_data_btc=requests.get(btc_url)"
   ]
  },
  {
   "cell_type": "code",
   "execution_count": 20,
   "id": "e0424c24-b1fe-48ce-adde-11a920fef00f",
   "metadata": {},
   "outputs": [],
   "source": [
    "response_content=response_data_btc.content"
   ]
  },
  {
   "cell_type": "code",
   "execution_count": 22,
   "id": "e2eea6ae-de72-4702-9a9c-4bb9f076348d",
   "metadata": {},
   "outputs": [],
   "source": [
    "import json"
   ]
  },
  {
   "cell_type": "code",
   "execution_count": 24,
   "id": "7ddaa6c1-a8f6-4851-bbf8-f856310be0a3",
   "metadata": {},
   "outputs": [],
   "source": [
    "data_btc=response_data_btc.json()"
   ]
  },
  {
   "cell_type": "code",
   "execution_count": 29,
   "id": "b7030083-d767-4856-8d7d-618a865d0111",
   "metadata": {},
   "outputs": [
    {
     "name": "stdout",
     "output_type": "stream",
     "text": [
      "{\n",
      "    \"data\": {\n",
      "        \"1\": {\n",
      "            \"id\": 1,\n",
      "            \"name\": \"Bitcoin\",\n",
      "            \"symbol\": \"BTC\",\n",
      "            \"website_slug\": \"bitcoin\",\n",
      "            \"rank\": 1,\n",
      "            \"circulating_supply\": 19001143,\n",
      "            \"total_supply\": 19001143,\n",
      "            \"max_supply\": 21000000,\n",
      "            \"quotes\": {\n",
      "                \"USD\": {\n",
      "                    \"price\": 45930.0,\n",
      "                    \"volume_24h\": 23380220771,\n",
      "                    \"market_cap\": 874712561558,\n",
      "                    \"percentage_change_1h\": -0.0315572663106226,\n",
      "                    \"percentage_change_24h\": -1.90246754226703,\n",
      "                    \"percentage_change_7d\": 3.1892389130707,\n",
      "                    \"percent_change_1h\": -0.0315572663106226,\n",
      "                    \"percent_change_24h\": -1.90246754226703,\n",
      "                    \"percent_change_7d\": 3.1892389130707\n",
      "                }\n",
      "            },\n",
      "            \"last_updated\": 1648948673\n",
      "        }\n",
      "    },\n",
      "    \"metadata\": {\n",
      "        \"timestamp\": 1648948673,\n",
      "        \"num_cryptocurrencies\": 3105,\n",
      "        \"error\": null\n",
      "    }\n",
      "}\n"
     ]
    }
   ],
   "source": [
    "print(json.dumps(data_btc,indent=4))"
   ]
  },
  {
   "cell_type": "code",
   "execution_count": 43,
   "id": "ea343ce2-336f-4a8e-a293-2b2342d5ddad",
   "metadata": {},
   "outputs": [
    {
     "data": {
      "text/plain": [
       "45930.0"
      ]
     },
     "execution_count": 43,
     "metadata": {},
     "output_type": "execute_result"
    }
   ],
   "source": [
    "data_btc[\"data\"]['1']['quotes']['USD']['price']"
   ]
  },
  {
   "cell_type": "code",
   "execution_count": 47,
   "id": "f4d2f3c5-ce50-4423-8274-139291965b2a",
   "metadata": {},
   "outputs": [],
   "source": [
    "response_data_eth=requests.get(eth_url)"
   ]
  },
  {
   "cell_type": "code",
   "execution_count": 45,
   "id": "c603ad6b-7e93-4fab-9956-ac6b5fc83bdd",
   "metadata": {},
   "outputs": [
    {
     "name": "stdout",
     "output_type": "stream",
     "text": [
      "{\n",
      "    \"data\": {\n",
      "        \"1\": {\n",
      "            \"id\": 1,\n",
      "            \"name\": \"Bitcoin\",\n",
      "            \"symbol\": \"BTC\",\n",
      "            \"website_slug\": \"bitcoin\",\n",
      "            \"rank\": 1,\n",
      "            \"circulating_supply\": 19001143,\n",
      "            \"total_supply\": 19001143,\n",
      "            \"max_supply\": 21000000,\n",
      "            \"quotes\": {\n",
      "                \"USD\": {\n",
      "                    \"price\": 45930.0,\n",
      "                    \"volume_24h\": 23380220771,\n",
      "                    \"market_cap\": 874712561558,\n",
      "                    \"percentage_change_1h\": -0.0315572663106226,\n",
      "                    \"percentage_change_24h\": -1.90246754226703,\n",
      "                    \"percentage_change_7d\": 3.1892389130707,\n",
      "                    \"percent_change_1h\": -0.0315572663106226,\n",
      "                    \"percent_change_24h\": -1.90246754226703,\n",
      "                    \"percent_change_7d\": 3.1892389130707\n",
      "                }\n",
      "            },\n",
      "            \"last_updated\": 1648948673\n",
      "        }\n",
      "    },\n",
      "    \"metadata\": {\n",
      "        \"timestamp\": 1648948673,\n",
      "        \"num_cryptocurrencies\": 3105,\n",
      "        \"error\": null\n",
      "    }\n",
      "}\n"
     ]
    }
   ],
   "source": [
    "print(json.dumps(data_eth,indent=4))"
   ]
  },
  {
   "cell_type": "code",
   "execution_count": 48,
   "id": "6d4b6f7d-6561-4508-a023-9b34081256ae",
   "metadata": {},
   "outputs": [],
   "source": [
    "response_content_eth=response_data_eth.content"
   ]
  },
  {
   "cell_type": "code",
   "execution_count": 49,
   "id": "80a53702-a51e-474b-9463-31bbcd8f611f",
   "metadata": {},
   "outputs": [],
   "source": [
    "data_eth=response_data_eth.json()"
   ]
  },
  {
   "cell_type": "code",
   "execution_count": 50,
   "id": "1e6f2655-0254-49f4-9b09-ea7c36d01739",
   "metadata": {},
   "outputs": [
    {
     "name": "stdout",
     "output_type": "stream",
     "text": [
      "{\n",
      "    \"data\": {\n",
      "        \"1027\": {\n",
      "            \"id\": 1027,\n",
      "            \"name\": \"Ethereum\",\n",
      "            \"symbol\": \"ETH\",\n",
      "            \"website_slug\": \"ethereum\",\n",
      "            \"rank\": 2,\n",
      "            \"circulating_supply\": 120220404,\n",
      "            \"total_supply\": 120220404,\n",
      "            \"max_supply\": 0,\n",
      "            \"quotes\": {\n",
      "                \"USD\": {\n",
      "                    \"price\": 3425.2,\n",
      "                    \"volume_24h\": 20996832021,\n",
      "                    \"market_cap\": 411330736658,\n",
      "                    \"percentage_change_1h\": -1.17695918547434,\n",
      "                    \"percentage_change_24h\": -1.50228319239469,\n",
      "                    \"percentage_change_7d\": 9.0524527376058,\n",
      "                    \"percent_change_1h\": -1.17695918547434,\n",
      "                    \"percent_change_24h\": -1.50228319239469,\n",
      "                    \"percent_change_7d\": 9.0524527376058\n",
      "                }\n",
      "            },\n",
      "            \"last_updated\": 1648950157\n",
      "        }\n",
      "    },\n",
      "    \"metadata\": {\n",
      "        \"timestamp\": 1648950157,\n",
      "        \"num_cryptocurrencies\": 3105,\n",
      "        \"error\": null\n",
      "    }\n",
      "}\n"
     ]
    }
   ],
   "source": [
    "print(json.dumps(data_eth,indent=4))"
   ]
  },
  {
   "cell_type": "code",
   "execution_count": 52,
   "id": "6e2273fc-567f-40f2-ac44-c1af17b0521b",
   "metadata": {},
   "outputs": [
    {
     "data": {
      "text/plain": [
       "3425.2"
      ]
     },
     "execution_count": 52,
     "metadata": {},
     "output_type": "execute_result"
    }
   ],
   "source": [
    "data_eth[\"data\"]['1027']['quotes']['USD']['price']"
   ]
  },
  {
   "cell_type": "code",
   "execution_count": 53,
   "id": "219e4b8c-ef2d-44a1-abf3-c09a12fd58bf",
   "metadata": {},
   "outputs": [],
   "source": [
    "my_agg=200\n",
    "my_spy = 50 "
   ]
  },
  {
   "cell_type": "code",
   "execution_count": 54,
   "id": "d70c9a61-cd3c-4c74-a132-24f81db6fb1a",
   "metadata": {},
   "outputs": [],
   "source": [
    "alpaca=trade_api.REST(alpaca_api_key, alpaca_secret_key, api_version='v2')"
   ]
  },
  {
   "cell_type": "code",
   "execution_count": 55,
   "id": "7f59e80d-fa09-4161-bd0b-6e63b98ead87",
   "metadata": {},
   "outputs": [],
   "source": [
    "from datetime import datetime\n",
    "today = datetime.now()"
   ]
  },
  {
   "cell_type": "code",
   "execution_count": 56,
   "id": "27b96f27-91e9-4c01-b006-ff339f8c2d2e",
   "metadata": {},
   "outputs": [],
   "source": [
    "tickers=['SPY','AGG']\n",
    "timeframe='1DAY'"
   ]
  },
  {
   "cell_type": "code",
   "execution_count": 57,
   "id": "47f9b680-89d5-4951-9276-5dc91ce00650",
   "metadata": {},
   "outputs": [],
   "source": [
    "from alpaca_trade_api.rest import REST, TimeFrame"
   ]
  },
  {
   "cell_type": "code",
   "execution_count": 59,
   "id": "31dc9691-8597-43e3-b3d7-af2503dd6077",
   "metadata": {},
   "outputs": [
    {
     "data": {
      "text/html": [
       "<div>\n",
       "<style scoped>\n",
       "    .dataframe tbody tr th:only-of-type {\n",
       "        vertical-align: middle;\n",
       "    }\n",
       "\n",
       "    .dataframe tbody tr th {\n",
       "        vertical-align: top;\n",
       "    }\n",
       "\n",
       "    .dataframe thead th {\n",
       "        text-align: right;\n",
       "    }\n",
       "</style>\n",
       "<table border=\"1\" class=\"dataframe\">\n",
       "  <thead>\n",
       "    <tr style=\"text-align: right;\">\n",
       "      <th></th>\n",
       "      <th>open</th>\n",
       "      <th>high</th>\n",
       "      <th>low</th>\n",
       "      <th>close</th>\n",
       "      <th>volume</th>\n",
       "      <th>trade_count</th>\n",
       "      <th>vwap</th>\n",
       "      <th>symbol</th>\n",
       "    </tr>\n",
       "    <tr>\n",
       "      <th>timestamp</th>\n",
       "      <th></th>\n",
       "      <th></th>\n",
       "      <th></th>\n",
       "      <th></th>\n",
       "      <th></th>\n",
       "      <th></th>\n",
       "      <th></th>\n",
       "      <th></th>\n",
       "    </tr>\n",
       "  </thead>\n",
       "  <tbody>\n",
       "    <tr>\n",
       "      <th>2022-04-01 04:00:00+00:00</th>\n",
       "      <td>106.35</td>\n",
       "      <td>106.95</td>\n",
       "      <td>106.25</td>\n",
       "      <td>106.75</td>\n",
       "      <td>11579091</td>\n",
       "      <td>40126</td>\n",
       "      <td>106.667931</td>\n",
       "      <td>AGG</td>\n",
       "    </tr>\n",
       "    <tr>\n",
       "      <th>2022-04-01 04:00:00+00:00</th>\n",
       "      <td>453.30</td>\n",
       "      <td>453.46</td>\n",
       "      <td>449.14</td>\n",
       "      <td>452.92</td>\n",
       "      <td>88676014</td>\n",
       "      <td>624745</td>\n",
       "      <td>451.850848</td>\n",
       "      <td>SPY</td>\n",
       "    </tr>\n",
       "  </tbody>\n",
       "</table>\n",
       "</div>"
      ],
      "text/plain": [
       "                             open    high     low   close    volume  \\\n",
       "timestamp                                                             \n",
       "2022-04-01 04:00:00+00:00  106.35  106.95  106.25  106.75  11579091   \n",
       "2022-04-01 04:00:00+00:00  453.30  453.46  449.14  452.92  88676014   \n",
       "\n",
       "                           trade_count        vwap symbol  \n",
       "timestamp                                                  \n",
       "2022-04-01 04:00:00+00:00        40126  106.667931    AGG  \n",
       "2022-04-01 04:00:00+00:00       624745  451.850848    SPY  "
      ]
     },
     "execution_count": 59,
     "metadata": {},
     "output_type": "execute_result"
    }
   ],
   "source": [
    "alpaca.get_bars(tickers,TimeFrame.Day,\"2022-04-01\",\"2022-04-01\",adjustment='raw').df"
   ]
  },
  {
   "cell_type": "code",
   "execution_count": 60,
   "id": "ac8f84de-f9c4-4e0a-9b1f-1fc8d30a1365",
   "metadata": {},
   "outputs": [],
   "source": [
    "current_price=alpaca.get_bars(tickers,TimeFrame.Day,\"2022-04-01\",\"2022-04-01\",adjustment='raw').df"
   ]
  },
  {
   "cell_type": "code",
   "execution_count": 61,
   "id": "9a4dc615-b9e3-46f9-aae7-3b0221400faf",
   "metadata": {},
   "outputs": [],
   "source": [
    "current_price.index=current_price.index.date"
   ]
  },
  {
   "cell_type": "code",
   "execution_count": 62,
   "id": "df29864a-0427-4ffc-b1ba-4637d0fc09d5",
   "metadata": {},
   "outputs": [
    {
     "data": {
      "text/html": [
       "<div>\n",
       "<style scoped>\n",
       "    .dataframe tbody tr th:only-of-type {\n",
       "        vertical-align: middle;\n",
       "    }\n",
       "\n",
       "    .dataframe tbody tr th {\n",
       "        vertical-align: top;\n",
       "    }\n",
       "\n",
       "    .dataframe thead th {\n",
       "        text-align: right;\n",
       "    }\n",
       "</style>\n",
       "<table border=\"1\" class=\"dataframe\">\n",
       "  <thead>\n",
       "    <tr style=\"text-align: right;\">\n",
       "      <th></th>\n",
       "      <th>open</th>\n",
       "      <th>high</th>\n",
       "      <th>low</th>\n",
       "      <th>close</th>\n",
       "      <th>volume</th>\n",
       "      <th>trade_count</th>\n",
       "      <th>vwap</th>\n",
       "      <th>symbol</th>\n",
       "    </tr>\n",
       "  </thead>\n",
       "  <tbody>\n",
       "    <tr>\n",
       "      <th>2022-04-01</th>\n",
       "      <td>106.35</td>\n",
       "      <td>106.95</td>\n",
       "      <td>106.25</td>\n",
       "      <td>106.75</td>\n",
       "      <td>11579091</td>\n",
       "      <td>40126</td>\n",
       "      <td>106.667931</td>\n",
       "      <td>AGG</td>\n",
       "    </tr>\n",
       "    <tr>\n",
       "      <th>2022-04-01</th>\n",
       "      <td>453.30</td>\n",
       "      <td>453.46</td>\n",
       "      <td>449.14</td>\n",
       "      <td>452.92</td>\n",
       "      <td>88676014</td>\n",
       "      <td>624745</td>\n",
       "      <td>451.850848</td>\n",
       "      <td>SPY</td>\n",
       "    </tr>\n",
       "  </tbody>\n",
       "</table>\n",
       "</div>"
      ],
      "text/plain": [
       "              open    high     low   close    volume  trade_count        vwap  \\\n",
       "2022-04-01  106.35  106.95  106.25  106.75  11579091        40126  106.667931   \n",
       "2022-04-01  453.30  453.46  449.14  452.92  88676014       624745  451.850848   \n",
       "\n",
       "           symbol  \n",
       "2022-04-01    AGG  \n",
       "2022-04-01    SPY  "
      ]
     },
     "execution_count": 62,
     "metadata": {},
     "output_type": "execute_result"
    }
   ],
   "source": [
    "current_price"
   ]
  },
  {
   "cell_type": "code",
   "execution_count": 63,
   "id": "bb6f4590-12d5-45e6-b76e-29bf5aad6220",
   "metadata": {},
   "outputs": [],
   "source": [
    "current_price= current_price[['close','symbol']]"
   ]
  },
  {
   "cell_type": "code",
   "execution_count": 64,
   "id": "31c6c304-87bb-4f59-b3c4-f6bd15a6ed1d",
   "metadata": {},
   "outputs": [
    {
     "data": {
      "text/html": [
       "<div>\n",
       "<style scoped>\n",
       "    .dataframe tbody tr th:only-of-type {\n",
       "        vertical-align: middle;\n",
       "    }\n",
       "\n",
       "    .dataframe tbody tr th {\n",
       "        vertical-align: top;\n",
       "    }\n",
       "\n",
       "    .dataframe thead th {\n",
       "        text-align: right;\n",
       "    }\n",
       "</style>\n",
       "<table border=\"1\" class=\"dataframe\">\n",
       "  <thead>\n",
       "    <tr style=\"text-align: right;\">\n",
       "      <th></th>\n",
       "      <th>close</th>\n",
       "      <th>symbol</th>\n",
       "    </tr>\n",
       "  </thead>\n",
       "  <tbody>\n",
       "    <tr>\n",
       "      <th>2022-04-01</th>\n",
       "      <td>106.75</td>\n",
       "      <td>AGG</td>\n",
       "    </tr>\n",
       "    <tr>\n",
       "      <th>2022-04-01</th>\n",
       "      <td>452.92</td>\n",
       "      <td>SPY</td>\n",
       "    </tr>\n",
       "  </tbody>\n",
       "</table>\n",
       "</div>"
      ],
      "text/plain": [
       "             close symbol\n",
       "2022-04-01  106.75    AGG\n",
       "2022-04-01  452.92    SPY"
      ]
     },
     "execution_count": 64,
     "metadata": {},
     "output_type": "execute_result"
    }
   ],
   "source": [
    "current_price"
   ]
  },
  {
   "cell_type": "code",
   "execution_count": 70,
   "id": "09d523ad-d32b-4543-8f17-8fb381b22f23",
   "metadata": {},
   "outputs": [
    {
     "data": {
      "text/plain": [
       "2022-04-01    106.75\n",
       "2022-04-01    452.92\n",
       "Name: close, dtype: float64"
      ]
     },
     "execution_count": 70,
     "metadata": {},
     "output_type": "execute_result"
    }
   ],
   "source": [
    "current_price['close']"
   ]
  },
  {
   "cell_type": "code",
   "execution_count": null,
   "id": "ff014f48-75fb-4a2d-aca9-2032fe4afd1e",
   "metadata": {},
   "outputs": [],
   "source": []
  }
 ],
 "metadata": {
  "kernelspec": {
   "display_name": "Python 3 (ipykernel)",
   "language": "python",
   "name": "python3"
  },
  "language_info": {
   "codemirror_mode": {
    "name": "ipython",
    "version": 3
   },
   "file_extension": ".py",
   "mimetype": "text/x-python",
   "name": "python",
   "nbconvert_exporter": "python",
   "pygments_lexer": "ipython3",
   "version": "3.9.7"
  }
 },
 "nbformat": 4,
 "nbformat_minor": 5
}
